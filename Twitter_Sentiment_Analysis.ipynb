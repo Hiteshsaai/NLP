{
 "cells": [
  {
   "cell_type": "markdown",
   "metadata": {},
   "source": [
    "# Twitter sentiment analysis "
   ]
  },
  {
   "cell_type": "code",
   "execution_count": 2,
   "metadata": {},
   "outputs": [],
   "source": [
    "import tweepy \n",
    "import re \n",
    "import pickle\n",
    "\n",
    "from tweepy import OAuthHandler \n",
    "\n",
    "consumer_key  = \"your key\"\n",
    "consumer_secret = \"your key\"\n",
    "access_token = \"your key\"\n",
    "access_secret = \"your key\"\n",
    "\n"
   ]
  },
  {
   "cell_type": "code",
   "execution_count": null,
   "metadata": {},
   "outputs": [],
   "source": [
    "auth = OAuthHandler(consumer_key,consumer_secret)\n",
    "auth.set_access_token(access_token, access_secret)\n",
    "\n",
    "args = ['facebook']\n",
    "\n",
    "api = tweepy.API(auth, timeout = 10)\n",
    "\n",
    "tweet_list = []\n",
    "\n",
    "query = args[0]\n",
    "for status in tweepy.Cursor(api.search , q= query+\" -filter:retweets\", lang = 'en', result_type = \"recent\").items(100):\n",
    "    tweet_list.append(status.text)\n",
    "    \n"
   ]
  },
  {
   "cell_type": "code",
   "execution_count": null,
   "metadata": {},
   "outputs": [],
   "source": [
    "tweet_corpus = []\n",
    "\n",
    "for i in tweet_list:\n",
    "    review = re.sub(r'^https://t.co/[a-zA-Z0-9]*\\s',' ',i)\n",
    "    review = re.sub(r'\\s+https://t.co/[a-zA-Z0-9]*\\s',' ',review)\n",
    "    review = re.sub(r'\\s+https://t.co/[a-zA-Z0-9]*$',' ',review)\n",
    "    review = review.lower()\n",
    "    review = re.sub(r\"what's\", \"what is\", review)\n",
    "    review = re.sub(r\"that's\", \"that is\", review)\n",
    "    review = re.sub(r\"which's\", \"which is\", review)\n",
    "    review = re.sub(r\"she's\", \"she is\", review)\n",
    "    review = re.sub(r\"he's\", \"he is\", review)\n",
    "    review = re.sub(r\"they're\", \"they are\", review)\n",
    "    review = re.sub(r\"who're\", \"who are\", review)\n",
    "    review = re.sub(r\"we're\", \"we are\", review)\n",
    "    review = re.sub(r'\\W', ' ', review)\n",
    "    review = re.sub(r'\\d',' ', review)\n",
    "    review = re.sub(r'\\s+[a-z]\\s+', ' ', review)\n",
    "    review = re.sub(r'^[a-z]\\s+', ' ', review)\n",
    "    review = re.sub(r'\\s+[a-z]$',' ', review)\n",
    "    review = re.sub(r'\\s+',' ', review)\n",
    "    tweet_corpus.append(review)\n",
    "    #sentence = clf.predict(tfidf.transform([review]).toarray())[0]\n",
    "   # print(review,\":\",sentence)\n",
    "\n",
    "\n"
   ]
  },
  {
   "cell_type": "code",
   "execution_count": null,
   "metadata": {},
   "outputs": [],
   "source": [
    "# Unpickiling the classifier and the tfifd model \n",
    "\n",
    "with open('clf.pickle','rb') as f:\n",
    "    clf = pickle.load(f)\n",
    "    \n",
    "with open('TfidfTransformer.pickle','rb') as f:\n",
    "    tfidf = pickle.load(f)\n",
    "\n",
    "tweets_analysis = []\n",
    "\n",
    "for i in tweet_corpus: \n",
    "    if clf.predict(tfidf.transform([i]).toarray())[0] == 1:\n",
    "        tweets_analysis.append('Positive')\n",
    "    else:\n",
    "        tweets_analysis.append('Negative')\n",
    "        \n",
    "\n"
   ]
  },
  {
   "cell_type": "code",
   "execution_count": null,
   "metadata": {},
   "outputs": [],
   "source": [
    "import pandas as pd \n",
    "\n",
    "df = {'tweets':tweet_corpus, 'tweet_analysis':tweets_analysis}\n",
    "tweet_sentiment_analysis = pd.DataFrame(df)\n",
    "\n",
    "\n",
    "tweet_sentiment_analysis"
   ]
  },
  {
   "cell_type": "code",
   "execution_count": null,
   "metadata": {},
   "outputs": [],
   "source": []
  }
 ],
 "metadata": {
  "kernelspec": {
   "display_name": "Python 3",
   "language": "python",
   "name": "python3"
  },
  "language_info": {
   "codemirror_mode": {
    "name": "ipython",
    "version": 3
   },
   "file_extension": ".py",
   "mimetype": "text/x-python",
   "name": "python",
   "nbconvert_exporter": "python",
   "pygments_lexer": "ipython3",
   "version": "3.6.7"
  }
 },
 "nbformat": 4,
 "nbformat_minor": 2
}
